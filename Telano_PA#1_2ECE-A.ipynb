{
 "cells": [
  {
   "cell_type": "code",
   "execution_count": 5,
   "id": "9e534e7c-54ff-4223-b9a5-fa28ab2579a0",
   "metadata": {},
   "outputs": [
    {
     "name": "stdin",
     "output_type": "stream",
     "text": [
      "Enter a word:  hacker\n"
     ]
    },
    {
     "name": "stdout",
     "output_type": "stream",
     "text": [
      "The arranged word is acehkr\n"
     ]
    }
   ],
   "source": [
    "# Alphabet Soup Problem \n",
    "\n",
    "def alphabet_soup(word):                          # Creates a function\n",
    "    x = list(word)                                # Arranges the characters of a string into a list\n",
    "    y = sorted(x)                                 # Sorting the list in alphabetical order   \n",
    "    z = \"\".join(y)                                # Turning the list into a string again \n",
    "    return print(f\"The arranged word is {z}\")     # Prints out the arranged word\n",
    "\n",
    "alphabet_soup(word = input(\"Enter a word: \"))     # Gets user input for the string  \n"
   ]
  },
  {
   "cell_type": "code",
   "execution_count": 2,
   "id": "c903959c-2d21-4227-84da-809f7554645d",
   "metadata": {},
   "outputs": [
    {
     "name": "stdin",
     "output_type": "stream",
     "text": [
      "Enter the sentence:  I am sad and mad\n"
     ]
    },
    {
     "name": "stdout",
     "output_type": "stream",
     "text": [
      "I am :(( and >:(\n"
     ]
    }
   ],
   "source": [
    "# Emoticon Problem\n",
    "\n",
    "emoticons = {                                            # Creates a dictionary\n",
    "    \"smile\" : \":)\", \n",
    "    \"grin\" : \":D\", \n",
    "    \"sad\" : \":((\", \n",
    "    \"mad\" : \">:(\"\n",
    "}\n",
    "\n",
    "def emotify(sentence):                                   # Defines the function \n",
    "    for word, emoticon in emoticons.items():             # Uses a for loop to look for the words in the sentence that are also in the dictionary\n",
    "        sentence = sentence.replace(word, emoticon)      # Replaces the words in the sentence with its corresponding emoticon from the dictionary\n",
    "    print(sentence)                                      # Returns new sentence\n",
    "\n",
    "sentence = emotify(input(\"Enter the sentence: \"))        # Calls function and gets the sentence from user input"
   ]
  },
  {
   "cell_type": "code",
   "execution_count": 6,
   "id": "0b26c428-182f-4129-9aee-1682a5cc5dbe",
   "metadata": {},
   "outputs": [
    {
     "name": "stdin",
     "output_type": "stream",
     "text": [
      "Enter your list (do not use spaces or comma):   1   \n"
     ]
    },
    {
     "name": "stdout",
     "output_type": "stream",
     "text": [
      "first: 1     middle: [' ', ' ']      last:  \n"
     ]
    }
   ],
   "source": [
    "# Unpacking List Problem\n",
    "\n",
    "writeyourcodehere = input(\"Enter your list (do not use spaces or comma):  \")    # Gets the list from user input\n",
    "\n",
    "first, *middle, last = writeyourcodehere                                        # Gets the first element, then collects the remaining elements before the last element   \n",
    "                                                                                # The star (*) operator puts the remaining elements of a list\n",
    "print(f\"first: {first}     middle: {middle}      last: {last}\")                 # Prints the three variables                      \n"
   ]
  },
  {
   "cell_type": "code",
   "execution_count": null,
   "id": "4516f5aa-363e-48c0-9fa6-42e4bd84f79d",
   "metadata": {},
   "outputs": [],
   "source": []
  }
 ],
 "metadata": {
  "kernelspec": {
   "display_name": "Python [conda env:base] *",
   "language": "python",
   "name": "conda-base-py"
  },
  "language_info": {
   "codemirror_mode": {
    "name": "ipython",
    "version": 3
   },
   "file_extension": ".py",
   "mimetype": "text/x-python",
   "name": "python",
   "nbconvert_exporter": "python",
   "pygments_lexer": "ipython3",
   "version": "3.13.5"
  }
 },
 "nbformat": 4,
 "nbformat_minor": 5
}
